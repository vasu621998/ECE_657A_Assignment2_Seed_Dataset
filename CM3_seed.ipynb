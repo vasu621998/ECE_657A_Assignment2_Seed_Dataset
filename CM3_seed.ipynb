{
 "cells": [
  {
   "cell_type": "markdown",
   "id": "behind-firmware",
   "metadata": {},
   "source": [
    "# <div align=\"center\">CM3</div>\n",
    "\n",
    "\n",
    "###  3.1 Required Libraries"
   ]
  },
  {
   "cell_type": "code",
   "execution_count": 1,
   "id": "blind-insertion",
   "metadata": {},
   "outputs": [],
   "source": [
    "import numpy as np\n",
    "import pandas as pd\n",
    "from numpy import mean, std\n",
    "import matplotlib.pyplot as plt\n",
    "from sklearn.model_selection import KFold,cross_val_score,train_test_split\n",
    "from sklearn import preprocessing, metrics,model_selection\n",
    "from sklearn.tree import DecisionTreeClassifier\n",
    "from sklearn.ensemble import RandomForestClassifier,GradientBoostingClassifier\n",
    "from sklearn.neighbors import KNeighborsClassifier"
   ]
  },
  {
   "cell_type": "markdown",
   "id": "loaded-portfolio",
   "metadata": {},
   "source": [
    "### 3.2 Load dataset and assign column names to each feature\n"
   ]
  },
  {
   "cell_type": "code",
   "execution_count": 2,
   "id": "compound-alignment",
   "metadata": {},
   "outputs": [
    {
     "name": "stdout",
     "output_type": "stream",
     "text": [
      "<class 'pandas.core.frame.DataFrame'>\n",
      "RangeIndex: 198 entries, 0 to 197\n",
      "Data columns (total 8 columns):\n",
      " #   Column                   Non-Null Count  Dtype  \n",
      "---  ------                   --------------  -----  \n",
      " 0   area                     198 non-null    float64\n",
      " 1   perimeter                198 non-null    float64\n",
      " 2   compactness              198 non-null    float64\n",
      " 3   length_kernel            198 non-null    float64\n",
      " 4   width_kernel             198 non-null    float64\n",
      " 5   asymmetry_coeff          198 non-null    float64\n",
      " 6   length_of_kernel_groove  198 non-null    float64\n",
      " 7   target                   198 non-null    int64  \n",
      "dtypes: float64(7), int64(1)\n",
      "memory usage: 12.5 KB\n"
     ]
    },
    {
     "name": "stderr",
     "output_type": "stream",
     "text": [
      "b'Skipping line 8: expected 8 fields, saw 10\\nSkipping line 36: expected 8 fields, saw 10\\nSkipping line 61: expected 8 fields, saw 9\\nSkipping line 69: expected 8 fields, saw 9\\nSkipping line 107: expected 8 fields, saw 9\\nSkipping line 136: expected 8 fields, saw 9\\nSkipping line 170: expected 8 fields, saw 9\\nSkipping line 171: expected 8 fields, saw 9\\nSkipping line 173: expected 8 fields, saw 9\\nSkipping line 202: expected 8 fields, saw 9\\nSkipping line 204: expected 8 fields, saw 9\\n'\n"
     ]
    }
   ],
   "source": [
    "df = pd.read_csv('seeds_dataset.txt', sep=\"\\t\", error_bad_lines = False, warn_bad_lines =True)\n",
    "df.columns = ['area', 'perimeter','compactness', 'length_kernel', 'width_kernel', 'asymmetry_coeff', 'length_of_kernel_groove', 'target']\n",
    "df.head()\n",
    "df.info()"
   ]
  },
  {
   "cell_type": "markdown",
   "id": "rapid-there",
   "metadata": {},
   "source": [
    "### 3.3 Extracting features and label from dataset\n",
    "\n",
    "x variable contains all features values and y variable contains all target values."
   ]
  },
  {
   "cell_type": "code",
   "execution_count": 3,
   "id": "legislative-magnitude",
   "metadata": {},
   "outputs": [],
   "source": [
    "x = df.iloc[:, :-1].values\n",
    "\n",
    "y = df.iloc[:, 7].values"
   ]
  },
  {
   "cell_type": "markdown",
   "id": "south-extent",
   "metadata": {},
   "source": [
    "### 3.4 Data Preprocessing "
   ]
  },
  {
   "cell_type": "code",
   "execution_count": 4,
   "id": "mathematical-teens",
   "metadata": {},
   "outputs": [],
   "source": [
    "from sklearn.preprocessing import StandardScaler\n",
    "scaler = StandardScaler()\n",
    "x = scaler.fit_transform(x)"
   ]
  },
  {
   "cell_type": "markdown",
   "id": "serious-country",
   "metadata": {},
   "source": [
    "### 3.5 Split dataset into train and test set"
   ]
  },
  {
   "cell_type": "code",
   "execution_count": 5,
   "id": "significant-wagner",
   "metadata": {},
   "outputs": [],
   "source": [
    "x_train, x_test, y_train, y_test = train_test_split(x, y,test_size=0.15,random_state = None)"
   ]
  },
  {
   "cell_type": "markdown",
   "id": "attended-creativity",
   "metadata": {},
   "source": [
    "### 3.6 Applying 10-fold validation on dataset"
   ]
  },
  {
   "cell_type": "code",
   "execution_count": 6,
   "id": "horizontal-applicant",
   "metadata": {},
   "outputs": [
    {
     "data": {
      "text/plain": [
       "10"
      ]
     },
     "execution_count": 6,
     "metadata": {},
     "output_type": "execute_result"
    }
   ],
   "source": [
    "kfold = KFold(n_splits=10, random_state=0, shuffle=True)\n",
    "kfold.get_n_splits(x_train)"
   ]
  },
  {
   "cell_type": "markdown",
   "id": "sufficient-luxembourg",
   "metadata": {},
   "source": [
    "### 3.7 Decision Tree with multiple depth"
   ]
  },
  {
   "cell_type": "code",
   "execution_count": 7,
   "id": "difficult-vinyl",
   "metadata": {},
   "outputs": [
    {
     "name": "stdout",
     "output_type": "stream",
     "text": [
      "Depth :  3 ===> Accuracy = 0.9345588235294118 and Standard Devaition = 0.07237699863075181\n",
      "Depth :  5 ===> Accuracy = 0.9463235294117647 and Standard Devaition = 0.05638799873540543\n",
      "Depth :  10 ===> Accuracy = 0.9463235294117647 and Standard Devaition = 0.06222256764129421\n",
      "Depth : None ===> Accuracy = 0.9463235294117647 and Standard Devaition = 0.05638799873540543\n"
     ]
    }
   ],
   "source": [
    "acc1 = []\n",
    "depth = [3, 5, 10, None]\n",
    "for k in depth:\n",
    "    model = DecisionTreeClassifier(max_depth = k)\n",
    "    scores = cross_val_score(model, x_train, y_train, scoring='accuracy', cv = kfold, n_jobs=-1)\n",
    "    if ( k != None):\n",
    "        print(f'Depth :  {k} ===> Accuracy = {mean(scores)} and Standard Devaition = {std(scores)}')\n",
    "      \n",
    "    else:\n",
    "        print(f'Depth : {k} ===> Accuracy = {mean(scores)} and Standard Devaition = {std(scores)}')\n",
    "    acc1 = np.append(acc1, mean(scores))"
   ]
  },
  {
   "cell_type": "markdown",
   "id": "graphic-assets",
   "metadata": {},
   "source": [
    "### 3.7.1 Conclusion of DecisionTreeClassifier:\n",
    "\n",
    "- Inorder to achieve highest accuracy for this model, depth should be 5.\n",
    "- At depth = 5, 10 and None model able to achieve accuracy = 0.94632."
   ]
  },
  {
   "cell_type": "markdown",
   "id": "dietary-thompson",
   "metadata": {},
   "source": [
    "### 3.8 Random Forest with multiple depth and number of trees"
   ]
  },
  {
   "cell_type": "code",
   "execution_count": 8,
   "id": "adult-physics",
   "metadata": {},
   "outputs": [
    {
     "name": "stdout",
     "output_type": "stream",
     "text": [
      "Number of trees : 5 and Depth : 3  ===> Accuracy =  0.9047794117647058 and Standard Deviation = 0.07068869230452057\n",
      "Number of trees : 5 and Depth : 5  ===> Accuracy =  0.9047794117647058 and Standard Deviation = 0.0556703117223753\n",
      "Number of trees : 5 and Depth : 10  ===> Accuracy =  0.8738970588235293 and Standard Deviation = 0.09533407953850126\n",
      "Number of trees : 5 and Depth : None  ===> Accuracy =  0.9408088235294118 and Standard Deviation = 0.052624923460316345\n",
      "Number of trees : 10 and Depth : 3  ===> Accuracy =  0.8863970588235294 and Standard Deviation = 0.08296858250802532\n",
      "Number of trees : 10 and Depth : 5  ===> Accuracy =  0.9102941176470589 and Standard Deviation = 0.08686434956248448\n",
      "Number of trees : 10 and Depth : 10  ===> Accuracy =  0.9463235294117647 and Standard Deviation = 0.049875493770916546\n",
      "Number of trees : 10 and Depth : None  ===> Accuracy =  0.9459558823529411 and Standard Deviation = 0.06889925603879161\n",
      "Number of trees : 50 and Depth : 3  ===> Accuracy =  0.9040441176470588 and Standard Deviation = 0.09408389215469232\n",
      "Number of trees : 50 and Depth : 5  ===> Accuracy =  0.9459558823529411 and Standard Deviation = 0.0636793998103595\n",
      "Number of trees : 50 and Depth : 10  ===> Accuracy =  0.9397058823529412 and Standard Deviation = 0.08636498152956484\n",
      "Number of trees : 50 and Depth : None  ===> Accuracy =  0.9338235294117647 and Standard Deviation = 0.07534522622029118\n",
      "Number of trees : 150 and Depth : 3  ===> Accuracy =  0.9099264705882353 and Standard Deviation = 0.09797983802379727\n",
      "Number of trees : 150 and Depth : 5  ===> Accuracy =  0.9400735294117647 and Standard Deviation = 0.07151751213180232\n",
      "Number of trees : 150 and Depth : 10  ===> Accuracy =  0.9397058823529412 and Standard Deviation = 0.07794117647058824\n",
      "Number of trees : 150 and Depth : None  ===> Accuracy =  0.9522058823529411 and Standard Deviation = 0.05233000984899438\n",
      "Number of trees : 200 and Depth : 3  ===> Accuracy =  0.9099264705882353 and Standard Deviation = 0.07380921029398332\n",
      "Number of trees : 200 and Depth : 5  ===> Accuracy =  0.9397058823529412 and Standard Deviation = 0.07794117647058824\n",
      "Number of trees : 200 and Depth : 10  ===> Accuracy =  0.9459558823529411 and Standard Deviation = 0.0636793998103595\n",
      "Number of trees : 200 and Depth : None  ===> Accuracy =  0.9518382352941176 and Standard Deviation = 0.0656525420042994\n"
     ]
    }
   ],
   "source": [
    "depth = [3, 5, 10, None]\n",
    "ntree = [5, 10, 50, 150, 200]\n",
    "\n",
    "acc2=[]\n",
    "\n",
    "for i in ntree:\n",
    "    for k in depth:\n",
    "            model = RandomForestClassifier(max_depth = k, n_estimators = i)\n",
    "            scores = cross_val_score(model, x_train, y_train, scoring='accuracy', cv = kfold, n_jobs=-1)\n",
    " \n",
    "            if ( k != None):\n",
    "                    print(f'Number of trees : {i} and Depth : {k}  ===> Accuracy =  {mean(scores)} and Standard Deviation = {std(scores)}')\n",
    "      \n",
    "            else:\n",
    "                    print(f'Number of trees : {i} and Depth : {k}  ===> Accuracy =  {mean(scores)} and Standard Deviation = {std(scores)}')\n",
    " \n",
    "            acc2 = np.append(acc2, mean(scores))\n",
    "            "
   ]
  },
  {
   "cell_type": "markdown",
   "id": "through-jungle",
   "metadata": {},
   "source": [
    "### 3.8.1 Conclusion of RandomForestClassifier:\n",
    "\n",
    "- Inorder to achieve highest accuracy for this model, depth should be 10 and number of trees should be 50.\n",
    "- At depth = None and Number of trees = 150, model able to achieve accuracy = 0.9522.\n",
    "\n",
    "**Note :**\n",
    "- Model also obtain accuracy at 0.95 number of trees = 200, but for less computation we have selected number of trees = 150."
   ]
  },
  {
   "cell_type": "markdown",
   "id": "empty-holocaust",
   "metadata": {},
   "source": [
    "### 3.9 Gradient Tree Boosting with number of estimators"
   ]
  },
  {
   "cell_type": "code",
   "execution_count": 9,
   "id": "sustainable-freeware",
   "metadata": {},
   "outputs": [
    {
     "name": "stdout",
     "output_type": "stream",
     "text": [
      "Number of boosting stages =   5 ==> Accuracy =  0.9404411764705882 and Standard Devaition = 0.06514307516700862\n",
      "Number of boosting stages =   10 ==> Accuracy =  0.9525735294117647 and Standard Devaition = 0.05137727886660625\n",
      "Number of boosting stages =   50 ==> Accuracy =  0.9400735294117647 and Standard Devaition = 0.04656362847265871\n",
      "Number of boosting stages =   150 ==> Accuracy =  0.9400735294117647 and Standard Devaition = 0.05348095940641999\n",
      "Number of boosting stages =   200 ==> Accuracy =  0.9341911764705882 and Standard Devaition = 0.062053988172372024\n"
     ]
    }
   ],
   "source": [
    "acc3 = []\n",
    "n_estimators = [5, 10, 50, 150, 200]\n",
    "for i in n_estimators:\n",
    "    model = GradientBoostingClassifier(n_estimators = i)\n",
    "    scores = cross_val_score(model, x_train, y_train, scoring='accuracy', cv = kfold, n_jobs=-1)\n",
    "    print(f'Number of boosting stages =   {i} ==> Accuracy =  {mean(scores)} and Standard Devaition = {std(scores)}')\n",
    "    acc3 = np.append(acc3, mean(scores))"
   ]
  },
  {
   "cell_type": "markdown",
   "id": "ranging-newcastle",
   "metadata": {},
   "source": [
    "### 3.9.1 Conclusion of GradientBoostingClassifier:\n",
    "\n",
    "- Inorder to achieve highest accuracy for this model, number of boosting stages should be 10.\n",
    "- At number of boosting stages = 10, model able to achieve accuracy = 0.9525."
   ]
  },
  {
   "cell_type": "markdown",
   "id": "sudden-recipient",
   "metadata": {},
   "source": [
    "### 3.10 Comparing Different models with respect to performance matrix ( Accuracy ):"
   ]
  },
  {
   "cell_type": "code",
   "execution_count": 13,
   "id": "mineral-reference",
   "metadata": {},
   "outputs": [
    {
     "name": "stdout",
     "output_type": "stream",
     "text": [
      "KNN: 0.922059 (0.066376)\n",
      "DTC: 0.946324 (0.056388)\n",
      "RFC: 0.951838 (0.065653)\n",
      "GBC: 0.940441 (0.065143)\n"
     ]
    }
   ],
   "source": [
    "\n",
    "models = []\n",
    "models.append(('KNN', KNeighborsClassifier()))\n",
    "models.append(('DTC', DecisionTreeClassifier(max_depth = 5)))\n",
    "models.append(('RFC', RandomForestClassifier(max_depth = None, n_estimators = 150)))\n",
    "models.append(('GBC', GradientBoostingClassifier(n_estimators = 10)))\n",
    "\n",
    "results = []\n",
    "names = []\n",
    "scoring = 'accuracy'\n",
    "for name, model in models:\n",
    "    kfold = model_selection.KFold(n_splits=10, random_state=0, shuffle=True)\n",
    "    cv_results = model_selection.cross_val_score(model, x_train, y_train, cv=kfold, scoring=scoring)\n",
    "    results.append(cv_results)\n",
    "    names.append(name)\n",
    "    msg = \"%s: %f (%f)\" % (name, cv_results.mean(), cv_results.std())\n",
    "    print(msg)"
   ]
  },
  {
   "cell_type": "markdown",
   "id": "welcome-flash",
   "metadata": {},
   "source": [
    "### 3.10.1 Box and whisker  plot for various models :"
   ]
  },
  {
   "cell_type": "code",
   "execution_count": 15,
   "id": "mighty-census",
   "metadata": {},
   "outputs": [
    {
     "data": {
      "image/png": "[encoded data removed]",
      "text/plain": [
       "<Figure size 432x288 with 1 Axes>"
      ]
     },
     "metadata": {
      "needs_background": "light"
     },
     "output_type": "display_data"
    }
   ],
   "source": [
    "fig = plt.figure()\n",
    "fig.suptitle('Algorithm Comparison')\n",
    "ax = fig.add_subplot(111)\n",
    "plt.boxplot(results)\n",
    "ax.set_xticklabels(names)\n",
    "plt.show()"
   ]
  },
  {
   "cell_type": "markdown",
   "id": "front-wallace",
   "metadata": {},
   "source": [
    "### 3.10.2 Conclusion various models :\n",
    "\n",
    "1. **DecisionTreeClassifier :** \n",
    "    1. Minimum and maximum value of accuracy are very near to each other compare to other models.\n",
    "    2. Median of accuracy at depth = 5 is 0.946.\n",
    "    3. Interquantile range is also large which means there are more difference in accuracy for this model.\n",
    "2. **RandomForestClassifier :** \n",
    "    1. Minimum and maximum value of accuracy are very far from each other compare to other models which means there is significance difference in min. and max. accuracy.\n",
    "    2. Median of accuracy at depth = None and number of trees = 150 is 0.9518.\n",
    "    3. Interquantile range is also small compare to other models, which means there are less difference in accuracy for this model.\n",
    "3. **GradientBoostingClassifier :** \n",
    "    1. Minimum and maximum value of accuracy are very near from each other compare to other models.\n",
    "    2. Median of accuracy at number of boosting stages = 10 is 0.9404.\n",
    "    3. Interquantile range is also large which means there are more difference in accuracy for this model."
   ]
  },
  {
   "cell_type": "markdown",
   "id": "aggregate-entrance",
   "metadata": {},
   "source": [
    "### 3.10.3 Intereting Patterns :\n",
    "\n",
    "- There is no significance difference in terms of accuracy in 3 models.\n",
    "- In terms of computation, GradientBoostingClassifier with high number of boosting stages perform highest computation. However with more number of boosting stages model may not be able to achieve high accuracy.\n",
    "- RandomForestClassifier has some more number of permutation as it includes depth as well aas number of trees. Moreover there is significance difference model accuracy.\n"
   ]
  }
 ],
 "metadata": {
  "kernelspec": {
   "display_name": "Python 3",
   "language": "python",
   "name": "python3"
  },
  "language_info": {
   "codemirror_mode": {
    "name": "ipython",
    "version": 3
   },
   "file_extension": ".py",
   "mimetype": "text/x-python",
   "name": "python",
   "nbconvert_exporter": "python",
   "pygments_lexer": "ipython3",
   "version": "3.9.1"
  }
 },
 "nbformat": 4,
 "nbformat_minor": 5
}
