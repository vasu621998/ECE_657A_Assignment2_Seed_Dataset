{
 "cells": [
  {
   "cell_type": "markdown",
   "id": "sapphire-atlas",
   "metadata": {},
   "source": [
    "# <div align=\"center\">CM4</div>\n",
    "\n",
    "\n",
    "###  4.1 Required Libraries"
   ]
  },
  {
   "cell_type": "code",
   "execution_count": 11,
   "id": "intimate-merchant",
   "metadata": {},
   "outputs": [],
   "source": [
    "import numpy as np\n",
    "import pandas as pd\n",
    "import matplotlib.pyplot as plt\n",
    "from sklearn.model_selection import KFold,train_test_split,cross_val_score\n",
    "from sklearn.naive_bayes import GaussianNB\n",
    "from numpy import mean\n",
    "from numpy import std\n",
    "from sklearn import preprocessing,metrics"
   ]
  },
  {
   "cell_type": "markdown",
   "id": "adequate-physics",
   "metadata": {},
   "source": [
    "### 4.2 Load dataset and assign column names to each feature\n",
    "\n",
    "Removed rows from dataset which have **/t** or **extra spaces** via **error_bad_lines = False**. There are no missing values in dataset as well. Except target feature all features have float datatype.\n",
    "\n",
    "For target feature dataset have 3 integer values for varieties of wheat :\n",
    "\n",
    "- target = 1 --> **\"Kama\"**\n",
    "- target = 2 --> **\"Rosa\"**\n",
    "- target = 3 --> **\"Canadian\"**"
   ]
  },
  {
   "cell_type": "code",
   "execution_count": 12,
   "id": "enabling-palestine",
   "metadata": {},
   "outputs": [
    {
     "name": "stderr",
     "output_type": "stream",
     "text": [
      "b'Skipping line 8: expected 8 fields, saw 10\\nSkipping line 36: expected 8 fields, saw 10\\nSkipping line 61: expected 8 fields, saw 9\\nSkipping line 69: expected 8 fields, saw 9\\nSkipping line 107: expected 8 fields, saw 9\\nSkipping line 136: expected 8 fields, saw 9\\nSkipping line 170: expected 8 fields, saw 9\\nSkipping line 171: expected 8 fields, saw 9\\nSkipping line 173: expected 8 fields, saw 9\\nSkipping line 202: expected 8 fields, saw 9\\nSkipping line 204: expected 8 fields, saw 9\\n'\n"
     ]
    },
    {
     "data": {
      "text/html": [
       "<div>\n",
       "<style scoped>\n",
       "    .dataframe tbody tr th:only-of-type {\n",
       "        vertical-align: middle;\n",
       "    }\n",
       "\n",
       "    .dataframe tbody tr th {\n",
       "        vertical-align: top;\n",
       "    }\n",
       "\n",
       "    .dataframe thead th {\n",
       "        text-align: right;\n",
       "    }\n",
       "</style>\n",
       "<table border=\"1\" class=\"dataframe\">\n",
       "  <thead>\n",
       "    <tr style=\"text-align: right;\">\n",
       "      <th></th>\n",
       "      <th>area</th>\n",
       "      <th>perimeter</th>\n",
       "      <th>compactness</th>\n",
       "      <th>length_kernel</th>\n",
       "      <th>width_kernel</th>\n",
       "      <th>asymmetry_coeff</th>\n",
       "      <th>length_of_kernel_groove</th>\n",
       "      <th>target</th>\n",
       "    </tr>\n",
       "  </thead>\n",
       "  <tbody>\n",
       "    <tr>\n",
       "      <th>0</th>\n",
       "      <td>14.88</td>\n",
       "      <td>14.57</td>\n",
       "      <td>0.8811</td>\n",
       "      <td>5.554</td>\n",
       "      <td>3.333</td>\n",
       "      <td>1.018</td>\n",
       "      <td>4.956</td>\n",
       "      <td>1</td>\n",
       "    </tr>\n",
       "    <tr>\n",
       "      <th>1</th>\n",
       "      <td>14.29</td>\n",
       "      <td>14.09</td>\n",
       "      <td>0.9050</td>\n",
       "      <td>5.291</td>\n",
       "      <td>3.337</td>\n",
       "      <td>2.699</td>\n",
       "      <td>4.825</td>\n",
       "      <td>1</td>\n",
       "    </tr>\n",
       "    <tr>\n",
       "      <th>2</th>\n",
       "      <td>13.84</td>\n",
       "      <td>13.94</td>\n",
       "      <td>0.8955</td>\n",
       "      <td>5.324</td>\n",
       "      <td>3.379</td>\n",
       "      <td>2.259</td>\n",
       "      <td>4.805</td>\n",
       "      <td>1</td>\n",
       "    </tr>\n",
       "    <tr>\n",
       "      <th>3</th>\n",
       "      <td>16.14</td>\n",
       "      <td>14.99</td>\n",
       "      <td>0.9034</td>\n",
       "      <td>5.658</td>\n",
       "      <td>3.562</td>\n",
       "      <td>1.355</td>\n",
       "      <td>5.175</td>\n",
       "      <td>1</td>\n",
       "    </tr>\n",
       "    <tr>\n",
       "      <th>4</th>\n",
       "      <td>14.38</td>\n",
       "      <td>14.21</td>\n",
       "      <td>0.8951</td>\n",
       "      <td>5.386</td>\n",
       "      <td>3.312</td>\n",
       "      <td>2.462</td>\n",
       "      <td>4.956</td>\n",
       "      <td>1</td>\n",
       "    </tr>\n",
       "  </tbody>\n",
       "</table>\n",
       "</div>"
      ],
      "text/plain": [
       "    area  perimeter  compactness  length_kernel  width_kernel  \\\n",
       "0  14.88      14.57       0.8811          5.554         3.333   \n",
       "1  14.29      14.09       0.9050          5.291         3.337   \n",
       "2  13.84      13.94       0.8955          5.324         3.379   \n",
       "3  16.14      14.99       0.9034          5.658         3.562   \n",
       "4  14.38      14.21       0.8951          5.386         3.312   \n",
       "\n",
       "   asymmetry_coeff  length_of_kernel_groove  target  \n",
       "0            1.018                    4.956       1  \n",
       "1            2.699                    4.825       1  \n",
       "2            2.259                    4.805       1  \n",
       "3            1.355                    5.175       1  \n",
       "4            2.462                    4.956       1  "
      ]
     },
     "execution_count": 12,
     "metadata": {},
     "output_type": "execute_result"
    }
   ],
   "source": [
    "df = pd.read_csv('seeds_dataset.txt', sep=\"\\t\", error_bad_lines = False, warn_bad_lines =True)\n",
    "df.columns = ['area', 'perimeter','compactness', 'length_kernel', 'width_kernel', 'asymmetry_coeff', 'length_of_kernel_groove', 'target']\n",
    "df.dropna(inplace=True)\n",
    "df.head()"
   ]
  },
  {
   "cell_type": "markdown",
   "id": "aggressive-transport",
   "metadata": {},
   "source": [
    "### 4.3 Extracting features and label from dataset\n",
    "\n",
    "x variable contains all features values and y variable contains all target values.\n"
   ]
  },
  {
   "cell_type": "code",
   "execution_count": 13,
   "id": "heavy-terrain",
   "metadata": {},
   "outputs": [],
   "source": [
    "x = df.iloc[:, :-1].values\n",
    "\n",
    "y = df.iloc[:, 7].values"
   ]
  },
  {
   "cell_type": "code",
   "execution_count": 14,
   "id": "reduced-emperor",
   "metadata": {},
   "outputs": [],
   "source": [
    "from sklearn.preprocessing import StandardScaler\n",
    "scaler = StandardScaler()\n",
    "x = scaler.fit_transform(x)"
   ]
  },
  {
   "cell_type": "code",
   "execution_count": 15,
   "id": "loose-guard",
   "metadata": {},
   "outputs": [],
   "source": [
    "x_train, x_test, y_train, y_test = train_test_split(x, y,test_size=0.15,random_state = None)"
   ]
  },
  {
   "cell_type": "markdown",
   "id": "loving-lighting",
   "metadata": {},
   "source": [
    "### 4.4 Applying 10-fold validation on dataset \n",
    "\n",
    "\n",
    "\n",
    "**KFold validation :**\n",
    "\n",
    "- Split data into train/test split.\n",
    "- Split dataset into k consecytive folds.\n",
    "- Each shuffle is use as a validation set, where k-1 remaining folds form the training set.\n"
   ]
  },
  {
   "cell_type": "code",
   "execution_count": 16,
   "id": "common-kuwait",
   "metadata": {},
   "outputs": [
    {
     "data": {
      "text/plain": [
       "10"
      ]
     },
     "execution_count": 16,
     "metadata": {},
     "output_type": "execute_result"
    }
   ],
   "source": [
    "kfold = KFold(n_splits=10, random_state=0, shuffle=True)\n",
    "kfold.get_n_splits(x_train)"
   ]
  },
  {
   "cell_type": "markdown",
   "id": "understood-provider",
   "metadata": {},
   "source": [
    "### 4.5 Naive Bayes classifier and Gaussian Naive Bayes classifier\n",
    "\n",
    "\n",
    "**Naive Bayes :**\n",
    "\n",
    "- The Naive Bayesian classifier is based on Bayes’ theorem with the independence assumptions between predictors. \n",
    "- A Naive Bayesian model is easy to build, with no complicated iterative parameter estimation which makes it particularly useful for very large datasets. \n",
    "- Despite its simplicity, the Naive Bayesian classifier often does surprisingly well and is widely used because it often outperforms more sophisticated classification methods.\n",
    "\n",
    "**Gaussian Naive Bayes classifier:**\n",
    "\n",
    "- In Gaussian Naive Bayes, continuous values associated with each feature are assumed to be distributed according to a Gaussian distribution.\n",
    "- The Gaussian in the GNB classifier is a probability distribution, and has the effect of comparing neural activation to the means and variances of activation in different stimulus conditions.\n",
    "\n",
    "**Parameters :**\n",
    "\n",
    "- var_smoothing (float): Portion of the largest variance of all features that is added to variances for calculation stability. Default value is 1e-9."
   ]
  },
  {
   "cell_type": "code",
   "execution_count": 17,
   "id": "deluxe-fifth",
   "metadata": {},
   "outputs": [
    {
     "name": "stdout",
     "output_type": "stream",
     "text": [
      "var_smoothing = 1e-10 ==> Accuracy =  0.9110294117647058 and Standard Devaition = 0.05385245124588399\n",
      "var_smoothing = 1e-09 ==> Accuracy =  0.9110294117647058 and Standard Devaition = 0.05385245124588399\n",
      "var_smoothing = 1e-05 ==> Accuracy =  0.9110294117647058 and Standard Devaition = 0.05385245124588399\n",
      "var_smoothing = 0.001 ==> Accuracy =  0.9110294117647058 and Standard Devaition = 0.05385245124588399\n",
      "var_smoothing = 0.1 ==> Accuracy =  0.9169117647058822 and Standard Devaition = 0.05971747207131458\n"
     ]
    }
   ],
   "source": [
    "var_smoothing = [1e-10,1e-9, 1e-5, 1e-3, 1e-1]\n",
    "acc4= []\n",
    "for i in var_smoothing:\n",
    "    model = GaussianNB(var_smoothing = i)    \n",
    "    model.fit(x_train, y_train)\n",
    "    scores = cross_val_score(model, x_train, y_train, scoring='accuracy', cv = kfold, n_jobs=-1)\n",
    "    print(f'var_smoothing = {i} ==> Accuracy =  {mean(scores)} and Standard Devaition = {std(scores)}')\n",
    "    acc4 = np.append(acc4, mean(scores))"
   ]
  },
  {
   "cell_type": "markdown",
   "id": "fifth-thanksgiving",
   "metadata": {},
   "source": [
    "### 4.5.1 Accuracy vs smoothing value for Gaussian Naive Bayes classifier.\n"
   ]
  },
  {
   "cell_type": "code",
   "execution_count": 18,
   "id": "juvenile-tradition",
   "metadata": {},
   "outputs": [
    {
     "data": {
      "text/plain": [
       "Text(0, 0.5, 'Accuracy')"
      ]
     },
     "execution_count": 18,
     "metadata": {},
     "output_type": "execute_result"
    },
    {
     "data": {
      "image/png": "[encoded data removed]",
      "text/plain": [
       "<Figure size 864x432 with 1 Axes>"
      ]
     },
     "metadata": {
      "needs_background": "light"
     },
     "output_type": "display_data"
    }
   ],
   "source": [
    "plt.figure(figsize=(12,6))\n",
    "plt.plot(var_smoothing,acc4, color='red', linestyle='dashed', marker='o', markerfacecolor='blue', markersize=10)\n",
    "plt.xlabel('Value of var_smoothing')\n",
    "plt.ylabel('Accuracy')\n"
   ]
  },
  {
   "cell_type": "markdown",
   "id": "swedish-anniversary",
   "metadata": {},
   "source": [
    "### 4.6 The impact of the smoothing parameter in Gaussian Naive Bayes classifier\n",
    "\n",
    "- In the context of Naive Bayes, assuming a Gaussian distribution is essentially giving more weights to the samples closer to the distribution mean.\n",
    "- The variable, var_smoothing, artificially adds a user-defined value ( In above case  1e-10, 1e-9, 1e-5 and 1e-1) to the distribution's variance (whose default value is derived from the training data set).\n",
    "- This essentially widens (or \"smooths\") the curve and accounts for more samples that are further away from the distribution mean."
   ]
  },
  {
   "cell_type": "markdown",
   "id": "broken-convention",
   "metadata": {},
   "source": [
    "### 4.7 In order to achieve highest accuracy in GaussianNB, model should use  var_smoothing = 1e-1 as it achieve highest accuracy in train set "
   ]
  },
  {
   "cell_type": "code",
   "execution_count": 19,
   "id": "marine-prize",
   "metadata": {},
   "outputs": [
    {
     "name": "stdout",
     "output_type": "stream",
     "text": [
      "Number of boosting stages : 150 ==> Accuracy: 0.8666666666666667\n"
     ]
    }
   ],
   "source": [
    "model4 = GaussianNB(var_smoothing = 1e-1)\n",
    "\n",
    "model4 = model4.fit(x_train,y_train)\n",
    "y_pred = model4.predict(x_test)\n",
    "print(f\"Number of boosting stages : 150 ==> Accuracy:\",metrics.accuracy_score(y_test, y_pred))"
   ]
  }
 ],
 "metadata": {
  "kernelspec": {
   "display_name": "Python 3",
   "language": "python",
   "name": "python3"
  },
  "language_info": {
   "codemirror_mode": {
    "name": "ipython",
    "version": 3
   },
   "file_extension": ".py",
   "mimetype": "text/x-python",
   "name": "python",
   "nbconvert_exporter": "python",
   "pygments_lexer": "ipython3",
   "version": "3.9.1"
  }
 },
 "nbformat": 4,
 "nbformat_minor": 5
}
